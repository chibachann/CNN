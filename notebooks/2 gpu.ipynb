{
 "cells": [
  {
   "cell_type": "code",
   "execution_count": 1,
   "metadata": {},
   "outputs": [],
   "source": [
    "import os\n",
    "import cv2\n",
    "import matplotlib.pyplot as plt\n",
    "import numpy as np\n",
    "from tqdm import tqdm\n",
    "import torch\n",
    "import torch.nn as nn\n",
    "import torch.optim \n",
    "from sklearn.preprocessing import LabelEncoder\n",
    "from sklearn.model_selection import train_test_split\n",
    "from torch.optim.lr_scheduler import ReduceLROnPlateau\n",
    "from torch.utils.data import DataLoader, TensorDataset\n",
    "from tqdm import tqdm\n",
    "from sklearn.model_selection import KFold\n"
   ]
  },
  {
   "cell_type": "code",
   "execution_count": 2,
   "metadata": {},
   "outputs": [
    {
     "name": "stdout",
     "output_type": "stream",
     "text": [
      "Using device: cuda\n"
     ]
    }
   ],
   "source": [
    "# GPUが利用可能かどうかを確認し、利用可能ならGPUを使用\n",
    "device = torch.device('cuda' if torch.cuda.is_available() else 'cpu')\n",
    "print(f'Using device: {device}')\n"
   ]
  },
  {
   "cell_type": "code",
   "execution_count": 3,
   "metadata": {},
   "outputs": [],
   "source": [
    "# データを格納するリスト\n",
    "X = []\n",
    "Z = []\n",
    "\n",
    "# 画像のサイズ\n",
    "IMG_SIZE = 150\n",
    "\n",
    "# 各花のディレクトリのパス\n",
    "FLOWER_DAISY_DIR = '../input/flowers/daisy'\n",
    "FLOWER_DANDI_DIR = '../input/flowers/dandelion'\n",
    "FLOWER_ROSE_DIR = '../input/flowers/rose'\n",
    "FLOWER_SUNFLOWER_DIR = '../input/flowers/sunflower'\n",
    "FLOWER_TULIP_DIR = '../input/flowers/tulip'\n",
    "\n",
    "# フラグを初期化\n",
    "added_flowers = set()\n"
   ]
  },
  {
   "cell_type": "code",
   "execution_count": 4,
   "metadata": {},
   "outputs": [],
   "source": [
    "# データの格納とコメントを追加した関数\n",
    "def make_train_data(flower_type, DIR):\n",
    "    if flower_type not in added_flowers:\n",
    "        added_flowers.add(flower_type)\n",
    "        # 各花のデータを格納するためのループ\n",
    "        for img in tqdm(os.listdir(DIR)):\n",
    "            # ラベルを花の名前に設定\n",
    "            label = str(flower_type)\n",
    "            # 画像ファイルのパスを生成\n",
    "            path = os.path.join(DIR, img)\n",
    "            # 画像をカラーで読み込み\n",
    "            img = cv2.imread(path, cv2.IMREAD_COLOR)\n",
    "            # 画像サイズをリサイズ\n",
    "            img = cv2.resize(img, (IMG_SIZE, IMG_SIZE))\n",
    "\n",
    "            # データをリストに追加\n",
    "            X.append(np.array(img))\n",
    "            Z.append(str(label))\n"
   ]
  },
  {
   "cell_type": "code",
   "execution_count": 5,
   "metadata": {},
   "outputs": [
    {
     "name": "stderr",
     "output_type": "stream",
     "text": [
      "100%|██████████| 764/764 [00:00<00:00, 836.30it/s]\n",
      "100%|██████████| 1052/1052 [00:01<00:00, 801.78it/s]\n",
      "100%|██████████| 784/784 [00:00<00:00, 833.16it/s]\n",
      "100%|██████████| 733/733 [00:01<00:00, 685.69it/s]\n",
      "100%|██████████| 984/984 [00:01<00:00, 779.97it/s]\n"
     ]
    }
   ],
   "source": [
    "# 各花に対してデータを作成\n",
    "make_train_data('Daisy', FLOWER_DAISY_DIR)\n",
    "make_train_data('Dandelion', FLOWER_DANDI_DIR)\n",
    "make_train_data('Rose', FLOWER_ROSE_DIR)\n",
    "make_train_data('Sunflower', FLOWER_SUNFLOWER_DIR)\n",
    "make_train_data('Tulip', FLOWER_TULIP_DIR)\n"
   ]
  },
  {
   "cell_type": "code",
   "execution_count": 6,
   "metadata": {},
   "outputs": [],
   "source": [
    "# 1. データの前処理\n",
    "le = LabelEncoder()\n",
    "Y = le.fit_transform(Z)\n",
    "Y = torch.tensor(Y, dtype=torch.long)\n",
    "X = np.array(X)\n",
    "X = X / 255.0  # ピクセル値を正規化\n",
    "X = torch.tensor(X, dtype=torch.float32)\n",
    "X = X.permute(0, 3, 1, 2)  # PyTorchはチャネルを先に要求\n"
   ]
  },
  {
   "cell_type": "code",
   "execution_count": 7,
   "metadata": {},
   "outputs": [],
   "source": [
    "# データを訓練セットと検証セットに分割\n",
    "X_train, X_val, Y_train, Y_val = train_test_split(X, Y, test_size=0.2, random_state=42)\n",
    "\n",
    "# データローダーの作成\n",
    "train_dataset = TensorDataset(X_train, Y_train)\n",
    "val_dataset = TensorDataset(X_val, Y_val)\n",
    "train_loader = DataLoader(train_dataset, batch_size=64, shuffle=True)\n",
    "val_loader = DataLoader(val_dataset, batch_size=64, shuffle=False)\n"
   ]
  },
  {
   "cell_type": "code",
   "execution_count": 8,
   "metadata": {},
   "outputs": [],
   "source": [
    "class SimpleCNN(nn.Module):\n",
    "    def __init__(self):\n",
    "        super(SimpleCNN, self).__init__()\n",
    "        # 最初の畳み込み層：32フィルタ、5x5カーネル、ReLU活性化関数、入力チャネルは3（RGB）\n",
    "        self.conv1 = nn.Conv2d(in_channels=3, out_channels=32, kernel_size=5, padding='same')\n",
    "        self.relu1 = nn.ReLU()\n",
    "        self.pool1 = nn.MaxPool2d(kernel_size=2, stride=2)\n",
    "\n",
    "        # 二番目の畳み込み層：64フィルタ、3x3カーネル、ReLU活性化関数\n",
    "        self.conv2 = nn.Conv2d(in_channels=32, out_channels=64, kernel_size=3, padding='same')\n",
    "        self.relu2 = nn.ReLU()\n",
    "        self.pool2 = nn.MaxPool2d(kernel_size=2, stride=2)\n",
    "\n",
    "        # 三番目の畳み込み層：96フィルタ、3x3カーネル、ReLU活性化関数\n",
    "        self.conv3 = nn.Conv2d(in_channels=64, out_channels=96, kernel_size=3, padding='same')\n",
    "        self.relu3 = nn.ReLU()\n",
    "        self.pool3 = nn.MaxPool2d(kernel_size=2, stride=2)\n",
    "\n",
    "        # 四番目の畳み込み層：96フィルタ、3x3カーネル、ReLU活性化関数\n",
    "        self.conv4 = nn.Conv2d(in_channels=96, out_channels=96, kernel_size=3, padding='same')\n",
    "        self.relu4 = nn.ReLU()\n",
    "        self.pool4 = nn.MaxPool2d(kernel_size=2, stride=2)\n",
    "\n",
    "        # Flatten層\n",
    "        self.flatten = nn.Flatten()\n",
    "\n",
    "        # 全結合層\n",
    "        self.fc1 = nn.Linear(96 * 9 * 9, 512)  # 96フィルタ、9x9サイズ（入力サイズに依存）\n",
    "        self.relu5 = nn.ReLU()\n",
    "\n",
    "        # 出力層：5クラスに分類するための層\n",
    "        self.fc2 = nn.Linear(512, 5)\n",
    "\n",
    "    def forward(self, x):\n",
    "        x = self.pool1(self.relu1(self.conv1(x)))\n",
    "        x = self.pool2(self.relu2(self.conv2(x)))\n",
    "        x = self.pool3(self.relu3(self.conv3(x)))\n",
    "        x = self.pool4(self.relu4(self.conv4(x)))\n",
    "        x = self.flatten(x)\n",
    "        x = self.relu5(self.fc1(x))\n",
    "        x = self.fc2(x)\n",
    "        return x\n"
   ]
  },
  {
   "cell_type": "code",
   "execution_count": 9,
   "metadata": {},
   "outputs": [],
   "source": [
    "# モデルをデバイスに移動\n",
    "model = SimpleCNN().to(device)\n"
   ]
  },
  {
   "cell_type": "code",
   "execution_count": 10,
   "metadata": {},
   "outputs": [],
   "source": [
    "# 3. 訓練と検証\n",
    "criterion = nn.CrossEntropyLoss()\n",
    "optimizer = torch.optim.Adam(model.parameters(), lr=0.001)\n",
    "scheduler = ReduceLROnPlateau(optimizer, 'min', patience=5)\n"
   ]
  },
  {
   "cell_type": "code",
   "execution_count": 11,
   "metadata": {},
   "outputs": [],
   "source": [
    "def train_and_evaluate_model(model, train_loader, val_loader, criterion, optimizer, num_epochs=25):\n",
    "    train_losses, val_losses = [], []\n",
    "    train_accuracies, val_accuracies = [], []\n",
    "\n",
    "    for epoch in range(num_epochs):\n",
    "        # 訓練フェーズ\n",
    "        model.train()\n",
    "        train_loss, train_correct = 0, 0\n",
    "        for inputs, labels in tqdm(train_loader, desc=f'Epoch {epoch+1}/{num_epochs}, Training...'):\n",
    "            inputs, labels = inputs.to(device), labels.to(device)\n",
    "            optimizer.zero_grad()\n",
    "            outputs = model(inputs)\n",
    "            loss = criterion(outputs, labels)\n",
    "            loss.backward()\n",
    "            optimizer.step()\n",
    "\n",
    "            train_loss += loss.item()\n",
    "            _, predicted = torch.max(outputs, 1)\n",
    "            train_correct += (predicted == labels).sum().item()\n",
    "\n",
    "        # 検証フェーズ\n",
    "        model.eval()\n",
    "        val_loss, val_correct = 0, 0\n",
    "        with torch.no_grad():\n",
    "            for inputs, labels in tqdm(val_loader, desc=f'Epoch {epoch+1}/{num_epochs}, Validation...'):\n",
    "                inputs, labels = inputs.to(device), labels.to(device)\n",
    "                outputs = model(inputs)\n",
    "                loss = criterion(outputs, labels)\n",
    "                val_loss += loss.item()\n",
    "                _, predicted = torch.max(outputs, 1)\n",
    "                val_correct += (predicted == labels).sum().item()\n",
    "\n",
    "        # 損失と精度の計算\n",
    "        train_losses.append(train_loss / len(train_loader))\n",
    "        val_losses.append(val_loss / len(val_loader))\n",
    "        train_accuracies.append(train_correct / len(train_loader.dataset))\n",
    "        val_accuracies.append(val_correct / len(val_loader.dataset))\n",
    "\n",
    "        print(f'Epoch {epoch+1}/{num_epochs}, Train Loss: {train_losses[-1]}, Val Loss: {val_losses[-1]}, Train Acc: {train_accuracies[-1]}, Val Acc: {val_accuracies[-1]}')\n",
    "\n",
    "    return train_losses, val_losses, train_accuracies, val_accuracies\n"
   ]
  },
  {
   "cell_type": "code",
   "execution_count": 15,
   "metadata": {},
   "outputs": [
    {
     "name": "stdout",
     "output_type": "stream",
     "text": [
      "Fold 1\n"
     ]
    },
    {
     "name": "stderr",
     "output_type": "stream",
     "text": [
      "Epoch 1/25, Training...: 100%|██████████| 108/108 [00:02<00:00, 46.99it/s]\n",
      "Epoch 1/25, Validation...: 100%|██████████| 27/27 [00:00<00:00, 122.17it/s]\n"
     ]
    },
    {
     "name": "stdout",
     "output_type": "stream",
     "text": [
      "Epoch 1/25, Train Loss: 1.102254111457754, Val Loss: 7.13832414039859, Train Acc: 0.4891398783666377, Val Acc: 0.10532407407407407\n"
     ]
    },
    {
     "name": "stderr",
     "output_type": "stream",
     "text": [
      "Epoch 2/25, Training...: 100%|██████████| 108/108 [00:01<00:00, 56.12it/s]\n",
      "Epoch 2/25, Validation...: 100%|██████████| 27/27 [00:00<00:00, 125.00it/s]\n"
     ]
    },
    {
     "name": "stdout",
     "output_type": "stream",
     "text": [
      "Epoch 2/25, Train Loss: 0.8795229643583298, Val Loss: 8.986828870243496, Train Acc: 0.6353895163625832, Val Acc: 0.08564814814814815\n"
     ]
    },
    {
     "name": "stderr",
     "output_type": "stream",
     "text": [
      "Epoch 3/25, Training...: 100%|██████████| 108/108 [00:01<00:00, 56.11it/s]\n",
      "Epoch 3/25, Validation...: 100%|██████████| 27/27 [00:00<00:00, 125.00it/s]\n"
     ]
    },
    {
     "name": "stdout",
     "output_type": "stream",
     "text": [
      "Epoch 3/25, Train Loss: 0.7750070619362371, Val Loss: 8.548739431080994, Train Acc: 0.6710107153200116, Val Acc: 0.09953703703703703\n"
     ]
    },
    {
     "name": "stderr",
     "output_type": "stream",
     "text": [
      "Epoch 4/25, Training...:  97%|█████████▋| 105/108 [00:01<00:00, 56.63it/s]\n"
     ]
    },
    {
     "ename": "KeyboardInterrupt",
     "evalue": "",
     "output_type": "error",
     "traceback": [
      "\u001b[1;31m---------------------------------------------------------------------------\u001b[0m",
      "\u001b[1;31mKeyboardInterrupt\u001b[0m                         Traceback (most recent call last)",
      "\u001b[1;32mc:\\Users\\tairy\\Documents\\Machine Learning\\CNN\\notebooks\\2 gpu.ipynb セル 12\u001b[0m line \u001b[0;36m2\n\u001b[0;32m     <a href='vscode-notebook-cell:/c%3A/Users/tairy/Documents/Machine%20Learning/CNN/notebooks/2%20gpu.ipynb#X13sZmlsZQ%3D%3D?line=19'>20</a>\u001b[0m criterion_fold \u001b[39m=\u001b[39m nn\u001b[39m.\u001b[39mCrossEntropyLoss()\n\u001b[0;32m     <a href='vscode-notebook-cell:/c%3A/Users/tairy/Documents/Machine%20Learning/CNN/notebooks/2%20gpu.ipynb#X13sZmlsZQ%3D%3D?line=21'>22</a>\u001b[0m \u001b[39m# 各フォールドでのモデルの訓練と評価\u001b[39;00m\n\u001b[1;32m---> <a href='vscode-notebook-cell:/c%3A/Users/tairy/Documents/Machine%20Learning/CNN/notebooks/2%20gpu.ipynb#X13sZmlsZQ%3D%3D?line=22'>23</a>\u001b[0m train_losses, val_losses, train_accuracies, val_accuracies \u001b[39m=\u001b[39m train_and_evaluate_model(model_fold, train_loader_fold, val_loader_fold, criterion_fold, optimizer_fold)\n\u001b[0;32m     <a href='vscode-notebook-cell:/c%3A/Users/tairy/Documents/Machine%20Learning/CNN/notebooks/2%20gpu.ipynb#X13sZmlsZQ%3D%3D?line=24'>25</a>\u001b[0m \u001b[39m# 各フォールドの結果を保存\u001b[39;00m\n\u001b[0;32m     <a href='vscode-notebook-cell:/c%3A/Users/tairy/Documents/Machine%20Learning/CNN/notebooks/2%20gpu.ipynb#X13sZmlsZQ%3D%3D?line=25'>26</a>\u001b[0m all_train_losses\u001b[39m.\u001b[39mappend(train_losses)\n",
      "\u001b[1;32mc:\\Users\\tairy\\Documents\\Machine Learning\\CNN\\notebooks\\2 gpu.ipynb セル 12\u001b[0m line \u001b[0;36m1\n\u001b[0;32m      <a href='vscode-notebook-cell:/c%3A/Users/tairy/Documents/Machine%20Learning/CNN/notebooks/2%20gpu.ipynb#X13sZmlsZQ%3D%3D?line=7'>8</a>\u001b[0m train_loss, train_correct \u001b[39m=\u001b[39m \u001b[39m0\u001b[39m, \u001b[39m0\u001b[39m\n\u001b[0;32m      <a href='vscode-notebook-cell:/c%3A/Users/tairy/Documents/Machine%20Learning/CNN/notebooks/2%20gpu.ipynb#X13sZmlsZQ%3D%3D?line=8'>9</a>\u001b[0m \u001b[39mfor\u001b[39;00m inputs, labels \u001b[39min\u001b[39;00m tqdm(train_loader, desc\u001b[39m=\u001b[39m\u001b[39mf\u001b[39m\u001b[39m'\u001b[39m\u001b[39mEpoch \u001b[39m\u001b[39m{\u001b[39;00mepoch\u001b[39m+\u001b[39m\u001b[39m1\u001b[39m\u001b[39m}\u001b[39;00m\u001b[39m/\u001b[39m\u001b[39m{\u001b[39;00mnum_epochs\u001b[39m}\u001b[39;00m\u001b[39m, Training...\u001b[39m\u001b[39m'\u001b[39m):\n\u001b[1;32m---> <a href='vscode-notebook-cell:/c%3A/Users/tairy/Documents/Machine%20Learning/CNN/notebooks/2%20gpu.ipynb#X13sZmlsZQ%3D%3D?line=9'>10</a>\u001b[0m     inputs, labels \u001b[39m=\u001b[39m inputs\u001b[39m.\u001b[39mto(device), labels\u001b[39m.\u001b[39mto(device)\n\u001b[0;32m     <a href='vscode-notebook-cell:/c%3A/Users/tairy/Documents/Machine%20Learning/CNN/notebooks/2%20gpu.ipynb#X13sZmlsZQ%3D%3D?line=10'>11</a>\u001b[0m     optimizer\u001b[39m.\u001b[39mzero_grad()\n\u001b[0;32m     <a href='vscode-notebook-cell:/c%3A/Users/tairy/Documents/Machine%20Learning/CNN/notebooks/2%20gpu.ipynb#X13sZmlsZQ%3D%3D?line=11'>12</a>\u001b[0m     outputs \u001b[39m=\u001b[39m model(inputs)\n",
      "\u001b[1;31mKeyboardInterrupt\u001b[0m: "
     ]
    }
   ],
   "source": [
    "all_train_losses = []\n",
    "all_val_losses = []\n",
    "all_train_accuracies = []\n",
    "all_val_accuracies = []\n",
    "\n",
    "# 交差検証の設定\n",
    "kf = KFold(n_splits=5)\n",
    "for fold, (train_idx, val_idx) in enumerate(kf.split(X)):\n",
    "    print(f'Fold {fold+1}')\n",
    "    X_train_fold, X_val_fold = X[train_idx], X[val_idx]\n",
    "    Y_train_fold, Y_val_fold = Y[train_idx], Y[val_idx]\n",
    "\n",
    "    train_dataset_fold = TensorDataset(X_train_fold, Y_train_fold)\n",
    "    val_dataset_fold = TensorDataset(X_val_fold, Y_val_fold)\n",
    "    train_loader_fold = DataLoader(train_dataset_fold, batch_size=32, shuffle=True)\n",
    "    val_loader_fold = DataLoader(val_dataset_fold, batch_size=32, shuffle=False)\n",
    "\n",
    "    model_fold = SimpleCNN().to(device)\n",
    "    optimizer_fold = torch.optim.Adam(model_fold.parameters(), lr=0.001)\n",
    "    criterion_fold = nn.CrossEntropyLoss()\n",
    "\n",
    "    # 各フォールドでのモデルの訓練と評価\n",
    "    train_losses, val_losses, train_accuracies, val_accuracies = train_and_evaluate_model(model_fold, train_loader_fold, val_loader_fold, criterion_fold, optimizer_fold)\n",
    "\n",
    "    # 各フォールドの結果を保存\n",
    "    all_train_losses.append(train_losses)\n",
    "    all_val_losses.append(val_losses)\n",
    "    all_train_accuracies.append(train_accuracies)\n",
    "    all_val_accuracies.append(val_accuracies)\n",
    "\n",
    "    # 各フォールドの結果をプロット\n",
    "    plt.figure(figsize=(12, 5))\n",
    "    plt.subplot(1, 2, 1)\n",
    "    plt.plot(train_losses, label='Training Loss')\n",
    "    plt.plot(val_losses, label='Validation Loss')\n",
    "    plt.title(f'Losses at Fold {fold+1}')\n",
    "    plt.xlabel('Epochs')\n",
    "    plt.ylabel('Loss')\n",
    "    plt.legend()\n",
    "\n",
    "    plt.subplot(1, 2, 2)\n",
    "    plt.plot(train_accuracies, label='Training Accuracy')\n",
    "    plt.plot(val_accuracies, label='Validation Accuracy')\n",
    "    plt.title(f'Accuracy at Fold {fold+1}')\n",
    "    plt.xlabel('Epochs')\n",
    "    plt.ylabel('Accuracy')\n",
    "    plt.legend()\n",
    "    plt.show()\n"
   ]
  },
  {
   "cell_type": "code",
   "execution_count": null,
   "metadata": {},
   "outputs": [],
   "source": [
    "# 平均損失と精度の計算\n",
    "avg_train_loss = np.mean([np.mean(losses) for losses in all_train_losses])\n",
    "avg_val_loss = np.mean([np.mean(losses) for losses in all_val_losses])\n",
    "avg_train_acc = np.mean([np.mean(accs) for accs in all_train_accuracies])\n",
    "avg_val_acc = np.mean([np.mean(accs) for accs in all_val_accuracies])\n",
    "\n",
    "print(f'Average Train Loss: {avg_train_loss}, Average Validation Loss: {avg_val_loss}')\n",
    "print(f'Average Train Accuracy: {avg_train_acc}, Average Validation Accuracy: {avg_val_acc}')\n"
   ]
  },
  {
   "cell_type": "code",
   "execution_count": 14,
   "metadata": {},
   "outputs": [
    {
     "ename": "NameError",
     "evalue": "name 'all_train_losses' is not defined",
     "output_type": "error",
     "traceback": [
      "\u001b[1;31m---------------------------------------------------------------------------\u001b[0m",
      "\u001b[1;31mNameError\u001b[0m                                 Traceback (most recent call last)",
      "\u001b[1;32mc:\\Users\\tairy\\Documents\\Machine Learning\\CNN\\notebooks\\2 gpu.ipynb セル 14\u001b[0m line \u001b[0;36m5\n\u001b[0;32m      <a href='vscode-notebook-cell:/c%3A/Users/tairy/Documents/Machine%20Learning/CNN/notebooks/2%20gpu.ipynb#X16sZmlsZQ%3D%3D?line=1'>2</a>\u001b[0m plt\u001b[39m.\u001b[39mfigure(figsize\u001b[39m=\u001b[39m(\u001b[39m12\u001b[39m, \u001b[39m10\u001b[39m))\n\u001b[0;32m      <a href='vscode-notebook-cell:/c%3A/Users/tairy/Documents/Machine%20Learning/CNN/notebooks/2%20gpu.ipynb#X16sZmlsZQ%3D%3D?line=3'>4</a>\u001b[0m plt\u001b[39m.\u001b[39msubplot(\u001b[39m2\u001b[39m, \u001b[39m1\u001b[39m, \u001b[39m1\u001b[39m)\n\u001b[1;32m----> <a href='vscode-notebook-cell:/c%3A/Users/tairy/Documents/Machine%20Learning/CNN/notebooks/2%20gpu.ipynb#X16sZmlsZQ%3D%3D?line=4'>5</a>\u001b[0m \u001b[39mfor\u001b[39;00m i \u001b[39min\u001b[39;00m \u001b[39mrange\u001b[39m(\u001b[39mlen\u001b[39m(all_train_losses)):\n\u001b[0;32m      <a href='vscode-notebook-cell:/c%3A/Users/tairy/Documents/Machine%20Learning/CNN/notebooks/2%20gpu.ipynb#X16sZmlsZQ%3D%3D?line=5'>6</a>\u001b[0m     plt\u001b[39m.\u001b[39mplot(all_train_losses[i], label\u001b[39m=\u001b[39m\u001b[39mf\u001b[39m\u001b[39m'\u001b[39m\u001b[39mTrain Fold \u001b[39m\u001b[39m{\u001b[39;00mi\u001b[39m+\u001b[39m\u001b[39m1\u001b[39m\u001b[39m}\u001b[39;00m\u001b[39m'\u001b[39m)\n\u001b[0;32m      <a href='vscode-notebook-cell:/c%3A/Users/tairy/Documents/Machine%20Learning/CNN/notebooks/2%20gpu.ipynb#X16sZmlsZQ%3D%3D?line=6'>7</a>\u001b[0m     plt\u001b[39m.\u001b[39mplot(all_val_losses[i], label\u001b[39m=\u001b[39m\u001b[39mf\u001b[39m\u001b[39m'\u001b[39m\u001b[39mVal Fold \u001b[39m\u001b[39m{\u001b[39;00mi\u001b[39m+\u001b[39m\u001b[39m1\u001b[39m\u001b[39m}\u001b[39;00m\u001b[39m'\u001b[39m, linestyle\u001b[39m=\u001b[39m\u001b[39m'\u001b[39m\u001b[39m--\u001b[39m\u001b[39m'\u001b[39m)\n",
      "\u001b[1;31mNameError\u001b[0m: name 'all_train_losses' is not defined"
     ]
    },
    {
     "data": {
      "image/png": "[encoded data removed]",
      "text/plain": [
       "<Figure size 1200x1000 with 1 Axes>"
      ]
     },
     "metadata": {},
     "output_type": "display_data"
    }
   ],
   "source": [
    "# 各フォールドの結果をまとめてプロット\n",
    "plt.figure(figsize=(12, 10))\n",
    "\n",
    "plt.subplot(2, 1, 1)\n",
    "for i in range(len(all_train_losses)):\n",
    "    plt.plot(all_train_losses[i], label=f'Train Fold {i+1}')\n",
    "    plt.plot(all_val_losses[i], label=f'Val Fold {i+1}', linestyle='--')\n",
    "plt.title('Train and Validation Losses Across Folds')\n",
    "plt.xlabel('Epochs')\n",
    "plt.ylabel('Loss')\n",
    "plt.legend()\n",
    "\n",
    "plt.subplot(2, 1, 2)\n",
    "for i in range(len(all_train_accuracies)):\n",
    "    plt.plot(all_train_accuracies[i], label=f'Train Fold {i+1}')\n",
    "    plt.plot(all_val_accuracies[i], label=f'Val Fold {i+1}', linestyle='--')\n",
    "plt.title('Train and Validation Accuracies Across Folds')\n",
    "plt.xlabel('Epochs')\n",
    "plt.ylabel('Accuracy')\n",
    "plt.legend()\n",
    "\n",
    "plt.tight_layout()\n",
    "plt.show()\n"
   ]
  }
 ],
 "metadata": {
  "kernelspec": {
   "display_name": "Python 3 (ipykernel)",
   "language": "python",
   "name": "python3"
  },
  "language_info": {
   "codemirror_mode": {
    "name": "ipython",
    "version": 3
   },
   "file_extension": ".py",
   "mimetype": "text/x-python",
   "name": "python",
   "nbconvert_exporter": "python",
   "pygments_lexer": "ipython3",
   "version": "3.11.3"
  }
 },
 "nbformat": 4,
 "nbformat_minor": 2
}
