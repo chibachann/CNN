{
 "cells": [
  {
   "cell_type": "code",
   "execution_count": 3,
   "metadata": {},
   "outputs": [],
   "source": [
    "import os\n",
    "import cv2\n",
    "import matplotlib.pyplot as plt\n",
    "import numpy as np\n",
    "from tqdm import tqdm\n",
    "import torch\n",
    "import torch.nn as nn\n",
    "import torch.optim \n",
    "from sklearn.preprocessing import LabelEncoder\n",
    "from sklearn.model_selection import train_test_split\n",
    "from torch.optim.lr_scheduler import ReduceLROnPlateau\n",
    "from torch.utils.data import DataLoader, TensorDataset\n",
    "from tqdm import tqdm\n",
    "from sklearn.model_selection import KFold\n"
   ]
  },
  {
   "cell_type": "code",
   "execution_count": 4,
   "metadata": {},
   "outputs": [],
   "source": [
    "# データを格納するリスト\n",
    "X = []\n",
    "Z = []\n",
    "\n",
    "# 画像のサイズ\n",
    "IMG_SIZE = 150\n",
    "\n",
    "# 各花のディレクトリのパス\n",
    "FLOWER_DAISY_DIR = '../input/flowers/daisy'\n",
    "FLOWER_DANDI_DIR = '../input/flowers/dandelion'\n",
    "FLOWER_ROSE_DIR = '../input/flowers/rose'\n",
    "FLOWER_SUNFLOWER_DIR = '../input/flowers/sunflower'\n",
    "FLOWER_TULIP_DIR = '../input/flowers/tulip'\n",
    "\n",
    "# フラグを初期化\n",
    "added_flowers = set()\n"
   ]
  },
  {
   "cell_type": "code",
   "execution_count": 5,
   "metadata": {},
   "outputs": [],
   "source": [
    "# データの格納とコメントを追加した関数\n",
    "def make_train_data(flower_type, DIR):\n",
    "    if flower_type not in added_flowers:\n",
    "        added_flowers.add(flower_type)\n",
    "        # 各花のデータを格納するためのループ\n",
    "        for img in tqdm(os.listdir(DIR)):\n",
    "            # ラベルを花の名前に設定\n",
    "            label = str(flower_type)\n",
    "            # 画像ファイルのパスを生成\n",
    "            path = os.path.join(DIR, img)\n",
    "            # 画像をカラーで読み込み\n",
    "            img = cv2.imread(path, cv2.IMREAD_COLOR)\n",
    "            # 画像サイズをリサイズ\n",
    "            img = cv2.resize(img, (IMG_SIZE, IMG_SIZE))\n",
    "\n",
    "            # データをリストに追加\n",
    "            X.append(np.array(img))\n",
    "            Z.append(str(label))\n"
   ]
  },
  {
   "cell_type": "code",
   "execution_count": 6,
   "metadata": {},
   "outputs": [
    {
     "name": "stderr",
     "output_type": "stream",
     "text": [
      "100%|██████████████████████████████████████████████████████████████████████████████████████████████| 764/764 [00:06<00:00, 115.32it/s]\n",
      "100%|████████████████████████████████████████████████████████████████████████████████████████████| 1052/1052 [00:09<00:00, 112.63it/s]\n",
      "100%|██████████████████████████████████████████████████████████████████████████████████████████████| 784/784 [00:07<00:00, 109.45it/s]\n",
      "100%|███████████████████████████████████████████████████████████████████████████████████████████████| 733/733 [00:07<00:00, 99.30it/s]\n",
      "100%|██████████████████████████████████████████████████████████████████████████████████████████████| 984/984 [00:09<00:00, 106.16it/s]\n"
     ]
    }
   ],
   "source": [
    "# 各花に対してデータを作成\n",
    "make_train_data('Daisy', FLOWER_DAISY_DIR)\n",
    "make_train_data('Dandelion', FLOWER_DANDI_DIR)\n",
    "make_train_data('Rose', FLOWER_ROSE_DIR)\n",
    "make_train_data('Sunflower', FLOWER_SUNFLOWER_DIR)\n",
    "make_train_data('Tulip', FLOWER_TULIP_DIR)\n"
   ]
  },
  {
   "cell_type": "code",
   "execution_count": 16,
   "metadata": {},
   "outputs": [],
   "source": [
    "# 1. データの前処理\n",
    "le = LabelEncoder()\n",
    "Y = le.fit_transform(Z)\n",
    "Y = torch.tensor(Y, dtype=torch.long)\n",
    "X = np.array(X)\n",
    "X = X / 255.0  # ピクセル値を正規化\n",
    "X = torch.tensor(X, dtype=torch.float32)\n",
    "X = X.permute(0, 3, 1, 2)  # PyTorchはチャネルを先に要求\n"
   ]
  },
  {
   "cell_type": "code",
   "execution_count": 17,
   "metadata": {},
   "outputs": [],
   "source": [
    "# データを訓練セットと検証セットに分割\n",
    "X_train, X_val, Y_train, Y_val = train_test_split(X, Y, test_size=0.2, random_state=42)\n",
    "\n",
    "# データローダーの作成\n",
    "train_dataset = TensorDataset(X_train, Y_train)\n",
    "val_dataset = TensorDataset(X_val, Y_val)\n",
    "train_loader = DataLoader(train_dataset, batch_size=32, shuffle=True)\n",
    "val_loader = DataLoader(val_dataset, batch_size=32, shuffle=False)\n"
   ]
  },
  {
   "cell_type": "code",
   "execution_count": 11,
   "metadata": {},
   "outputs": [],
   "source": [
    "class SimpleCNN(nn.Module):\n",
    "    def __init__(self):\n",
    "        super(SimpleCNN, self).__init__()\n",
    "        # 最初の畳み込み層：32フィルタ、5x5カーネル、ReLU活性化関数、入力チャネルは3（RGB）\n",
    "        self.conv1 = nn.Conv2d(in_channels=3, out_channels=32, kernel_size=5, padding='same')\n",
    "        self.relu1 = nn.ReLU()\n",
    "        self.pool1 = nn.MaxPool2d(kernel_size=2, stride=2)\n",
    "\n",
    "        # 二番目の畳み込み層：64フィルタ、3x3カーネル、ReLU活性化関数\n",
    "        self.conv2 = nn.Conv2d(in_channels=32, out_channels=64, kernel_size=3, padding='same')\n",
    "        self.relu2 = nn.ReLU()\n",
    "        self.pool2 = nn.MaxPool2d(kernel_size=2, stride=2)\n",
    "\n",
    "        # 三番目の畳み込み層：96フィルタ、3x3カーネル、ReLU活性化関数\n",
    "        self.conv3 = nn.Conv2d(in_channels=64, out_channels=96, kernel_size=3, padding='same')\n",
    "        self.relu3 = nn.ReLU()\n",
    "        self.pool3 = nn.MaxPool2d(kernel_size=2, stride=2)\n",
    "\n",
    "        # 四番目の畳み込み層：96フィルタ、3x3カーネル、ReLU活性化関数\n",
    "        self.conv4 = nn.Conv2d(in_channels=96, out_channels=96, kernel_size=3, padding='same')\n",
    "        self.relu4 = nn.ReLU()\n",
    "        self.pool4 = nn.MaxPool2d(kernel_size=2, stride=2)\n",
    "\n",
    "        # Flatten層\n",
    "        self.flatten = nn.Flatten()\n",
    "\n",
    "        # 全結合層\n",
    "        self.fc1 = nn.Linear(96 * 9 * 9, 512)  # 96フィルタ、9x9サイズ（入力サイズに依存）\n",
    "        self.relu5 = nn.ReLU()\n",
    "\n",
    "        # 出力層：5クラスに分類するための層\n",
    "        self.fc2 = nn.Linear(512, 5)\n",
    "\n",
    "    def forward(self, x):\n",
    "        x = self.pool1(self.relu1(self.conv1(x)))\n",
    "        x = self.pool2(self.relu2(self.conv2(x)))\n",
    "        x = self.pool3(self.relu3(self.conv3(x)))\n",
    "        x = self.pool4(self.relu4(self.conv4(x)))\n",
    "        x = self.flatten(x)\n",
    "        x = self.relu5(self.fc1(x))\n",
    "        x = self.fc2(x)\n",
    "        return x\n"
   ]
  },
  {
   "cell_type": "code",
   "execution_count": 18,
   "metadata": {},
   "outputs": [],
   "source": [
    "# 2. モデルの構築\n",
    "model = SimpleCNN()\n"
   ]
  },
  {
   "cell_type": "code",
   "execution_count": 19,
   "metadata": {},
   "outputs": [],
   "source": [
    "# 3. 訓練と検証\n",
    "criterion = nn.CrossEntropyLoss()\n",
    "optimizer = torch.optim.Adam(model.parameters(), lr=0.001)\n",
    "scheduler = ReduceLROnPlateau(optimizer, 'min', patience=5)\n"
   ]
  },
  {
   "cell_type": "code",
   "execution_count": 22,
   "metadata": {},
   "outputs": [],
   "source": [
    "# 訓練関数\n",
    "def train_model(model, criterion, optimizer, scheduler, num_epochs=25):\n",
    "    for epoch in range(num_epochs):\n",
    "        model.train()\n",
    "        total_loss, total_correct = 0, 0\n",
    "        for inputs, labels in tqdm(train_loader, desc=f'Epoch {epoch+1}/{epochs}', leave=False):\n",
    "            optimizer.zero_grad()\n",
    "            outputs = model(inputs)\n",
    "            loss = criterion(outputs, labels)\n",
    "            loss.backward()\n",
    "            optimizer.step()\n",
    "\n",
    "            total_loss += loss.item()\n",
    "            _, predicted = torch.max(outputs, 1)\n",
    "            total_correct += (predicted == labels).sum().item()\n",
    "\n",
    "        scheduler.step(total_loss)\n",
    "\n",
    "        print(f'Epoch {epoch+1}/{num_epochs}')\n",
    "        print(f'Train loss: {total_loss / len(train_loader)}')\n",
    "        print(f'Train accuracy: {total_correct / len(Y_train)}')\n"
   ]
  },
  {
   "cell_type": "code",
   "execution_count": 23,
   "metadata": {},
   "outputs": [
    {
     "name": "stderr",
     "output_type": "stream",
     "text": [
      "                                                                                                                                      \r"
     ]
    },
    {
     "name": "stdout",
     "output_type": "stream",
     "text": [
      "Epoch 1/25\n",
      "Train loss: 1.1428918093442917\n",
      "Train accuracy: 0.5207066319142775\n"
     ]
    },
    {
     "name": "stderr",
     "output_type": "stream",
     "text": [
      "                                                                                                                                      \r"
     ]
    },
    {
     "name": "stdout",
     "output_type": "stream",
     "text": [
      "Epoch 2/25\n",
      "Train loss: 0.9601964006821314\n",
      "Train accuracy: 0.6128004633651897\n"
     ]
    },
    {
     "name": "stderr",
     "output_type": "stream",
     "text": [
      "                                                                                                                                      \r"
     ]
    },
    {
     "name": "stdout",
     "output_type": "stream",
     "text": [
      "Epoch 3/25\n",
      "Train loss: 0.8675583810717972\n",
      "Train accuracy: 0.6594265855777585\n"
     ]
    },
    {
     "name": "stderr",
     "output_type": "stream",
     "text": [
      "                                                                                                                                      \r"
     ]
    },
    {
     "name": "stdout",
     "output_type": "stream",
     "text": [
      "Epoch 4/25\n",
      "Train loss: 0.7975318335272648\n",
      "Train accuracy: 0.6982334202143065\n"
     ]
    },
    {
     "name": "stderr",
     "output_type": "stream",
     "text": [
      "                                                                                                                                      \r"
     ]
    },
    {
     "name": "stdout",
     "output_type": "stream",
     "text": [
      "Epoch 5/25\n",
      "Train loss: 0.6971795895585308\n",
      "Train accuracy: 0.7355922386330727\n"
     ]
    },
    {
     "name": "stderr",
     "output_type": "stream",
     "text": [
      "                                                                                                                                      \r"
     ]
    },
    {
     "name": "stdout",
     "output_type": "stream",
     "text": [
      "Epoch 6/25\n",
      "Train loss: 0.5822196550391339\n",
      "Train accuracy: 0.7715030408340573\n"
     ]
    },
    {
     "name": "stderr",
     "output_type": "stream",
     "text": [
      "                                                                                                                                      \r"
     ]
    },
    {
     "name": "stdout",
     "output_type": "stream",
     "text": [
      "Epoch 7/25\n",
      "Train loss: 0.44482610871394473\n",
      "Train accuracy: 0.8288444830582102\n"
     ]
    },
    {
     "name": "stderr",
     "output_type": "stream",
     "text": [
      "                                                                                                                                      \r"
     ]
    },
    {
     "name": "stdout",
     "output_type": "stream",
     "text": [
      "Epoch 8/25\n",
      "Train loss: 0.33157014639841187\n",
      "Train accuracy: 0.8783666377063423\n"
     ]
    },
    {
     "name": "stderr",
     "output_type": "stream",
     "text": [
      "                                                                                                                                      \r"
     ]
    },
    {
     "name": "stdout",
     "output_type": "stream",
     "text": [
      "Epoch 9/25\n",
      "Train loss: 0.23209378533755187\n",
      "Train accuracy: 0.9180422820735592\n"
     ]
    },
    {
     "name": "stderr",
     "output_type": "stream",
     "text": [
      "                                                                                                                                      \r"
     ]
    },
    {
     "name": "stdout",
     "output_type": "stream",
     "text": [
      "Epoch 10/25\n",
      "Train loss: 0.17907564714550972\n",
      "Train accuracy: 0.9415001448016218\n"
     ]
    },
    {
     "name": "stderr",
     "output_type": "stream",
     "text": [
      "                                                                                                                                      \r"
     ]
    },
    {
     "name": "stdout",
     "output_type": "stream",
     "text": [
      "Epoch 11/25\n",
      "Train loss: 0.1255971301795432\n",
      "Train accuracy: 0.9606139588763394\n"
     ]
    },
    {
     "name": "stderr",
     "output_type": "stream",
     "text": [
      "                                                                                                                                      \r"
     ]
    },
    {
     "name": "stdout",
     "output_type": "stream",
     "text": [
      "Epoch 12/25\n",
      "Train loss: 0.08047477834582052\n",
      "Train accuracy: 0.9719084853750362\n"
     ]
    },
    {
     "name": "stderr",
     "output_type": "stream",
     "text": [
      "                                                                                                                                      \r"
     ]
    },
    {
     "name": "stdout",
     "output_type": "stream",
     "text": [
      "Epoch 13/25\n",
      "Train loss: 0.0735135139397311\n",
      "Train accuracy: 0.9756733275412685\n"
     ]
    },
    {
     "name": "stderr",
     "output_type": "stream",
     "text": [
      "                                                                                                                                      \r"
     ]
    },
    {
     "name": "stdout",
     "output_type": "stream",
     "text": [
      "Epoch 14/25\n",
      "Train loss: 0.0858675843186642\n",
      "Train accuracy: 0.9777005502461628\n"
     ]
    },
    {
     "name": "stderr",
     "output_type": "stream",
     "text": [
      "                                                                                                                                      \r"
     ]
    },
    {
     "name": "stdout",
     "output_type": "stream",
     "text": [
      "Epoch 15/25\n",
      "Train loss: 0.05788700827354289\n",
      "Train accuracy: 0.982334202143064\n"
     ]
    },
    {
     "name": "stderr",
     "output_type": "stream",
     "text": [
      "                                                                                                                                      \r"
     ]
    },
    {
     "name": "stdout",
     "output_type": "stream",
     "text": [
      "Epoch 16/25\n",
      "Train loss: 0.0523169761797396\n",
      "Train accuracy: 0.9849406313350709\n"
     ]
    },
    {
     "name": "stderr",
     "output_type": "stream",
     "text": [
      "                                                                                                                                      \r"
     ]
    },
    {
     "name": "stdout",
     "output_type": "stream",
     "text": [
      "Epoch 17/25\n",
      "Train loss: 0.056638577647390775\n",
      "Train accuracy: 0.9834926151172894\n"
     ]
    },
    {
     "name": "stderr",
     "output_type": "stream",
     "text": [
      "                                                                                                                                      \r"
     ]
    },
    {
     "name": "stdout",
     "output_type": "stream",
     "text": [
      "Epoch 18/25\n",
      "Train loss: 0.038250807764362196\n",
      "Train accuracy: 0.9869678540399652\n"
     ]
    },
    {
     "name": "stderr",
     "output_type": "stream",
     "text": [
      "                                                                                                                                      \r"
     ]
    },
    {
     "name": "stdout",
     "output_type": "stream",
     "text": [
      "Epoch 19/25\n",
      "Train loss: 0.03997307781483633\n",
      "Train accuracy: 0.9878366637706343\n"
     ]
    },
    {
     "name": "stderr",
     "output_type": "stream",
     "text": [
      "                                                                                                                                      \r"
     ]
    },
    {
     "name": "stdout",
     "output_type": "stream",
     "text": [
      "Epoch 20/25\n",
      "Train loss: 0.04510526451135606\n",
      "Train accuracy: 0.9866782507964089\n"
     ]
    },
    {
     "name": "stderr",
     "output_type": "stream",
     "text": [
      "                                                                                                                                      \r"
     ]
    },
    {
     "name": "stdout",
     "output_type": "stream",
     "text": [
      "Epoch 21/25\n",
      "Train loss: 0.0457903886530807\n",
      "Train accuracy: 0.9860990443092963\n"
     ]
    },
    {
     "name": "stderr",
     "output_type": "stream",
     "text": [
      "                                                                                                                                      \r"
     ]
    },
    {
     "name": "stdout",
     "output_type": "stream",
     "text": [
      "Epoch 22/25\n",
      "Train loss: 0.016500352475473105\n",
      "Train accuracy: 0.9953663481030988\n"
     ]
    },
    {
     "name": "stderr",
     "output_type": "stream",
     "text": [
      "                                                                                                                                      \r"
     ]
    },
    {
     "name": "stdout",
     "output_type": "stream",
     "text": [
      "Epoch 23/25\n",
      "Train loss: 0.011112295585108869\n",
      "Train accuracy: 0.9979727772951057\n"
     ]
    },
    {
     "name": "stderr",
     "output_type": "stream",
     "text": [
      "                                                                                                                                      \r"
     ]
    },
    {
     "name": "stdout",
     "output_type": "stream",
     "text": [
      "Epoch 24/25\n",
      "Train loss: 0.0058475763315881425\n",
      "Train accuracy: 0.9985519837822183\n"
     ]
    },
    {
     "name": "stderr",
     "output_type": "stream",
     "text": [
      "                                                                                                                                      "
     ]
    },
    {
     "name": "stdout",
     "output_type": "stream",
     "text": [
      "Epoch 25/25\n",
      "Train loss: 0.0038622906955694176\n",
      "Train accuracy: 0.9991311902693311\n"
     ]
    },
    {
     "name": "stderr",
     "output_type": "stream",
     "text": [
      "\r"
     ]
    },
    {
     "ename": "",
     "evalue": "",
     "output_type": "error",
     "traceback": [
      "\u001b[1;31m現在のセルまたは前のセルでコードを実行中に、カーネルがクラッシュしました。エラーの原因を特定するには、セル内のコードを確認してください。詳細については、<a href='https://aka.ms/vscodeJupyterKernelCrash'>こちら</a> をクリックしてください。さらなる詳細については、Jupyter [log] (command:jupyter.viewOutput) を参照してください。"
     ]
    }
   ],
   "source": [
    "# 訓練の実行\n",
    "train_model(model, criterion, optimizer, scheduler)\n"
   ]
  }
 ],
 "metadata": {
  "kernelspec": {
   "display_name": "Python 3 (ipykernel)",
   "language": "python",
   "name": "python3"
  },
  "language_info": {
   "codemirror_mode": {
    "name": "ipython",
    "version": 3
   },
   "file_extension": ".py",
   "mimetype": "text/x-python",
   "name": "python",
   "nbconvert_exporter": "python",
   "pygments_lexer": "ipython3",
   "version": "3.10.9"
  }
 },
 "nbformat": 4,
 "nbformat_minor": 2
}
